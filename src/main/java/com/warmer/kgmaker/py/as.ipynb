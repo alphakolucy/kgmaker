{
  "cells": [
    {
      "cell_type": "code",
      "execution_count": null,
      "metadata": {
        "collapsed": true,
        "pycharm": {}
      },
      "outputs": [],
      "source": ""
    }
  ],
  "metadata": {
    "language_info": {
      "codemirror_mode": {
        "name": "ipython",
        "version": 2
      },
      "file_extension": ".py",
      "mimetype": "text/x-python",
      "name": "python",
      "nbconvert_exporter": "python",
      "pygments_lexer": "ipython2",
      "version": "2.7.6"
    },
    "kernelspec": {
      "name": "pycharm-9746b597",
      "language": "python",
      "display_name": "PyCharm (kgmaker15)"
    },
    "stem_cell": {
      "cell_type": "raw",
      "source": "# -*-coding:utf-8 -*-\n# encoding:\u0027utf8\u0027\nimport json\nfrom py2neo import Node, Relationship,Graph,NodeMatch,NodeMatcher,RelationshipMatcher\ngraph \u003d Graph(\"http://localhost:7474\", username\u003d\"neo4j\", password\u003d\"booledata\")\ndef SentenceJoint(words): #将词语拼接成句子\n    k \u003d 0\n    sentence \u003d []\n    result \u003d \u0027\u0027\n    if words[len(words)-1] \u003d\u003d \u0027职工工伤与职业病致残等级\u0027:\n        words.pop(len(words)-1)\n        words.pop(len(words)-1)\n        words.append(\u0027《劳动能力鉴定 职工工伤与职业病致残等级》\u0027)\n    if words[len(words)-1] \u003d\u003d \u0027人体损伤程度鉴定标准\u0027:\n        words.pop(len(words)-1)\n        words.append(\u0027《人体损伤程度鉴定标准》\u0027)\n    for word in words:\n        if k !\u003d 0 and k !\u003d len(words)-1 and k % 2 \u003d\u003d 0:\n            sentence.append(word)\n            sentence.append(\u0027,\u0027)\n            sentence.append(word)\n        elif word \u003d\u003d \u0027临床表现\u0027:\n            sentence.append(\u0027的\u0027)\n            sentence.append(word)\n            sentence.append(\u0027为\u0027)\n        elif word \u003d\u003d \u0027依据\u0027:\n            sentence.append(\u0027的\u0027)\n            sentence.append(word)\n            sentence.append(\u0027是\u0027)\n        elif word \u003d\u003d \u0027内容\u0027:\n            sentence.append(\u0027的\u0027)\n            sentence.append(word)\n            sentence.append(\u0027包含了\u0027)\n        elif word \u003d\u003d \u0027分类\u0027:\n            sentence.append(\u0027包括\u0027)\n        elif word \u003d\u003d \u0027包含\u0027:\n            sentence.append(word)\n            sentence.append(\u0027了\u0027)\n        elif word \u003d\u003d \u0027原因与机制\u0027:\n            sentence.append(\u0027的\u0027)\n            sentence.append(word)\n            sentence.append(\u0027是\u0027)\n        elif word \u003d\u003d \u0027取决于\u0027:\n            sentence.append(word)\n        elif word \u003d\u003d \u0027法医学鉴定\u0027:\n            sentence.append(\u0027的\u0027)\n            sentence.append(word)\n            sentence.append(\u0027包含\u0027)\n        elif word \u003d\u003d \u0027症状与体征\u0027:\n            sentence.append(\u0027的\u0027)\n            sentence.append(word)\n            sentence.append(\u0027包含了\u0027)\n        elif word \u003d\u003d \u0027相关学说\u0027:\n            sentence.append(word)\n            sentence.append(\u0027包含\u0027)\n        else:\n            sentence.append(word)\n        k \u003d k+1\n    sentence.insert(len(sentence), \u0027。\u0027)\n    for sen in sentence:\n        result \u003d result + sen\n    print(result)\ndef ClearWord(t): #清除字符串中其他字符\n    word \u003d \u0027\u0027\n    words \u003d []\n    for i in t:\n        if \u0027\\u4e00\u0027 \u003c\u003d i \u003c\u003d \u0027\\u9fff\u0027:\n            word \u003d word + i\n        else:\n            words.append(word)\n            word \u003d \u0027\u0027\n    while \u0027\u0027 in words:\n        words.remove(\u0027\u0027)\n    return words\ndef GetNodesIdList(t): #获取起始节点和终止节点的id\n    ida \u003d []\n    idb \u003d []\n    for i in t:\n        if i[\u0027id(a)\u0027] not in ida:\n            ida.append(i[\u0027id(a)\u0027])\n        if i[\u0027id(b)\u0027] not in idb:\n            idb.append(i[\u0027id(b)\u0027])\n    return ida, idb\ndef Length(alist , blist):# 遍历所有的起始节点和终止节点，得到最短路径长度\n    l \u003d []\n    nodes \u003d []\n    for a in alist:\n        for b in blist:\n            if a !\u003d b: #当起始节点 ！\u003d 终止节点时\n                length \u003d graph.run(\"Match (n),(m) ,p \u003d shortestpath((n)-[*..100]-(m)) where id(n) \u003d %d and id(m) \u003d %d  return length(p)\"%(a, b)).data()\n                if len(length) !\u003d 0: #当路径存在时\n                    new_node \u003d {}\n                    new_node[\u0027id(a)\u0027] \u003d a\n                    new_node[\u0027id(b)\u0027] \u003d b\n                    new_node[\u0027length\u0027] \u003d length[0][\u0027length(p)\u0027]\n                    nodes.append(new_node)\n                    l.append(length[0][\u0027length(p)\u0027])\n    return l, nodes\n#查找图中节点信息\n\ntry:\n    getnodesid \u003d graph.run(\"Match (a),(b)where a.name contains(\u0027脊柱\u0027)   and b.name contains(\u0027损伤\u0027)  return id(a) , id(b)\").data()\n    alist, blist \u003d GetNodesIdList(getnodesid)\n    l, nodes \u003d Length(alist, blist)\n    for node in nodes:\n        if node[\u0027length\u0027] \u003d\u003d min(l):\n            r \u003d graph.run(\"Match (a),(b) ,p \u003d shortestpath((a)-[*..100]-(b)) where id(a) \u003d %d and id(b) \u003d %d  return p\"%(node[\u0027id(a)\u0027],node[\u0027id(b)\u0027])).data()\n            ids \u003d graph.run(\"Match (a),(b) ,p \u003d shortestpath((a)-[*..100]-(b)) where id(a) \u003d %d and id(b) \u003d %d   return a.name,a.detail,b.name,b.detail\"%(node[\u0027id(a)\u0027],node[\u0027id(b)\u0027])).data()\n            t \u003d str(r[0][\u0027p\u0027])  # 将graph返回的内容转换为字符串\n            if \u0027-\u003e\u0027 in t and \u0027\u003c-\u0027 not in t:\n                words \u003d ClearWord(t)\n                SentenceJoint(words)\n                print(ids[0][\u0027a.name\u0027], \u0027:\u0027, ids[0][\u0027a.detail\u0027])\n                print(ids[0][\u0027b.name\u0027], \u0027:\u0027, ids[0][\u0027b.detail\u0027])\n            if \u0027\u003c-\u0027 in t and \u0027-\u003e\u0027 not in t:\n                words \u003d ClearWord(t)\n                words.reverse()\n                SentenceJoint(words)\n                print(ids[0][\u0027a.name\u0027], \u0027:\u0027, ids[0][\u0027a.detail\u0027])\n                print(ids[0][\u0027b.name\u0027], \u0027:\u0027, ids[0][\u0027b.detail\u0027])\n            # if \u0027\u003c-\u0027 in t and \u0027-\u003e\u0027 in t:\n            #     print(ids[0][\u0027a.name\u0027], \u0027:\u0027, ids[0][\u0027a.detail\u0027])\n            #     print(ids[0][\u0027b.name\u0027], \u0027:\u0027, ids[0][\u0027b.detail\u0027])\nexcept:\n    print(\u0027输入错误！查无此词！请重新输入！\u0027)\n\n\n\n\n\n\n",
      "metadata": {
        "pycharm": {
          "metadata": false
        }
      }
    }
  },
  "nbformat": 4,
  "nbformat_minor": 0
}